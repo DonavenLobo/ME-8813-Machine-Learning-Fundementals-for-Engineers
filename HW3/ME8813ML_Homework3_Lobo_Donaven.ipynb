{
 "cells": [
  {
   "cell_type": "markdown",
   "metadata": {},
   "source": [
    "# ME 8813 HW3\n",
    "Name: Donaven Lobo"
   ]
  },
  {
   "cell_type": "code",
   "execution_count": 2,
   "metadata": {},
   "outputs": [
    {
     "name": "stderr",
     "output_type": "stream",
     "text": [
      "c:\\Users\\donav\\OneDrive\\Desktop\\Gatech\\MechEng\\ME 8813\\envs\\envhw3\\lib\\site-packages\\tqdm\\auto.py:21: TqdmWarning: IProgress not found. Please update jupyter and ipywidgets. See https://ipywidgets.readthedocs.io/en/stable/user_install.html\n",
      "  from .autonotebook import tqdm as notebook_tqdm\n"
     ]
    }
   ],
   "source": [
    "# Import libraries\n",
    "from pgmpy.models import BayesianNetwork\n",
    "from pgmpy.factors.discrete import TabularCPD\n",
    "from pgmpy.inference import VariableElimination, ApproxInference\n",
    "import networkx as nx\n",
    "import matplotlib.pyplot as plt"
   ]
  },
  {
   "cell_type": "code",
   "execution_count": 3,
   "metadata": {},
   "outputs": [],
   "source": [
    "# Create Bayesian Network for Juggling Model\n",
    "\n",
    "juggle_model = BayesianNetwork(\n",
    "    [\n",
    "        (\"Battery\", \"Juggle\"),\n",
    "        (\"Road\", \"Juggle\"),\n",
    "        (\"Juggle\", \"Olga\"),\n",
    "    ]\n",
    ")"
   ]
  },
  {
   "cell_type": "code",
   "execution_count": 8,
   "metadata": {},
   "outputs": [],
   "source": [
    "# Define the parameters using CPT\n",
    "\n",
    "# Battery is true when the battery is charged\n",
    "cpd_battery = TabularCPD(\n",
    "    variable=\"Battery\", \n",
    "    variable_card=2, \n",
    "    values=[[0.05], [0.95]]\n",
    ")\n",
    "\n",
    "# Road is true when the road is even\n",
    "cpd_road = TabularCPD(\n",
    "    variable=\"Road\", \n",
    "    variable_card=2, \n",
    "    values=[[0.4], [0.6]]\n",
    ")\n",
    "\n",
    "# Juggle is true when the ball isn't dropped\n",
    "cpd_juggle = TabularCPD(\n",
    "    variable = 'Juggle',\n",
    "    variable_card=2, \n",
    "    values=[[0.9, 0.5, 0.3, 0.01], [0.1, 0.5, 0.7, 0.99]],\n",
    "    evidence=['Battery', 'Road'], \n",
    "    evidence_card=[2, 2]\n",
    ")\n",
    "\n",
    "# Olga is true when she reports the ball has been dropped\n",
    "cpd_olga = TabularCPD(\n",
    "    variable=\"Olga\", \n",
    "    variable_card=2, \n",
    "    values=[[0.1, 0.9], [0.9, 0.1]],  # Adjusted values to ensure sum of each row is equal to 1\n",
    "    evidence=['Juggle'],\n",
    "    evidence_card=[2]\n",
    ")"
   ]
  },
  {
   "cell_type": "code",
   "execution_count": 9,
   "metadata": {},
   "outputs": [
    {
     "name": "stderr",
     "output_type": "stream",
     "text": [
      "WARNING:pgmpy:Replacing existing CPD for Battery\n",
      "WARNING:pgmpy:Replacing existing CPD for Road\n",
      "WARNING:pgmpy:Replacing existing CPD for Juggle\n",
      "WARNING:pgmpy:Replacing existing CPD for Olga\n"
     ]
    }
   ],
   "source": [
    "# Associating the parameters with the model structure\n",
    "juggle_model.add_cpds(cpd_battery, cpd_road, cpd_juggle, cpd_olga)"
   ]
  },
  {
   "cell_type": "code",
   "execution_count": 10,
   "metadata": {},
   "outputs": [
    {
     "data": {
      "text/plain": [
       "NodeView(('Battery', 'Juggle', 'Road', 'Olga'))"
      ]
     },
     "execution_count": 10,
     "metadata": {},
     "output_type": "execute_result"
    }
   ],
   "source": [
    "# Check if the model is valid, throw an exception otherwise\n",
    "juggle_model.nodes()"
   ]
  },
  {
   "cell_type": "code",
   "execution_count": 11,
   "metadata": {},
   "outputs": [
    {
     "name": "stdout",
     "output_type": "stream",
     "text": [
      "Probability distribution, P(Battery)\n",
      "+------------+------+\n",
      "| Battery(0) | 0.05 |\n",
      "+------------+------+\n",
      "| Battery(1) | 0.95 |\n",
      "+------------+------+\n",
      "\n",
      "Probability distribution, P(Road)\n",
      "+---------+-----+\n",
      "| Road(0) | 0.4 |\n",
      "+---------+-----+\n",
      "| Road(1) | 0.6 |\n",
      "+---------+-----+\n",
      "\n",
      "Probability distribution, P(Juggle)\n",
      "+-----------+------------+------------+------------+------------+\n",
      "| Battery   | Battery(0) | Battery(0) | Battery(1) | Battery(1) |\n",
      "+-----------+------------+------------+------------+------------+\n",
      "| Road      | Road(0)    | Road(1)    | Road(0)    | Road(1)    |\n",
      "+-----------+------------+------------+------------+------------+\n",
      "| Juggle(0) | 0.9        | 0.5        | 0.3        | 0.01       |\n",
      "+-----------+------------+------------+------------+------------+\n",
      "| Juggle(1) | 0.1        | 0.5        | 0.7        | 0.99       |\n",
      "+-----------+------------+------------+------------+------------+\n",
      "\n",
      "Probability distribution, P(Olga)\n",
      "+---------+-----------+-----------+\n",
      "| Juggle  | Juggle(0) | Juggle(1) |\n",
      "+---------+-----------+-----------+\n",
      "| Olga(0) | 0.1       | 0.9       |\n",
      "+---------+-----------+-----------+\n",
      "| Olga(1) | 0.9       | 0.1       |\n",
      "+---------+-----------+-----------+\n",
      "\n"
     ]
    }
   ],
   "source": [
    "# Print out the Joint Probablity Distribution\n",
    "print('Probability distribution, P(Battery)')\n",
    "print(cpd_battery)\n",
    "print()\n",
    "print('Probability distribution, P(Road)')\n",
    "print(cpd_road)\n",
    "print()\n",
    "print('Probability distribution, P(Juggle)')\n",
    "print(cpd_juggle)\n",
    "print()\n",
    "print('Probability distribution, P(Olga)')\n",
    "print(cpd_olga)\n",
    "print()"
   ]
  },
  {
   "cell_type": "code",
   "execution_count": 12,
   "metadata": {},
   "outputs": [
    {
     "data": {
      "text/plain": [
       "(Road ⟂ Battery)\n",
       "(Road ⟂ Olga | Juggle)\n",
       "(Road ⟂ Olga | Juggle, Battery)\n",
       "(Olga ⟂ Road, Battery | Juggle)\n",
       "(Olga ⟂ Battery | Juggle, Road)\n",
       "(Olga ⟂ Road | Juggle, Battery)\n",
       "(Battery ⟂ Road)\n",
       "(Battery ⟂ Olga | Juggle)\n",
       "(Battery ⟂ Olga | Juggle, Road)"
      ]
     },
     "execution_count": 12,
     "metadata": {},
     "output_type": "execute_result"
    }
   ],
   "source": [
    "# List out all the independencies in the model\n",
    "juggle_model.get_independencies()\n"
   ]
  },
  {
   "cell_type": "code",
   "execution_count": 13,
   "metadata": {},
   "outputs": [],
   "source": [
    "# create to inference objects\n",
    "infer_VE = VariableElimination(juggle_model) # Variable Elimination Inference\n",
    "infer_approx = ApproxInference(juggle_model) # Approximate Inference"
   ]
  },
  {
   "cell_type": "code",
   "execution_count": 18,
   "metadata": {},
   "outputs": [
    {
     "name": "stdout",
     "output_type": "stream",
     "text": [
      "Using variable elimination, the probability that the battery is low given that Olga reports that Jason has dropped the ball is: \n",
      " +------------+----------------+\n",
      "| Battery    |   phi(Battery) |\n",
      "+============+================+\n",
      "| Battery(0) |         0.1413 |\n",
      "+------------+----------------+\n",
      "| Battery(1) |         0.8587 |\n",
      "+------------+----------------+\n"
     ]
    }
   ],
   "source": [
    "# Suppose that Olga reports that Jason has dropped the ball. What effect does this have on your belief that the battery is low? Use the Variable Elimination to perform an exact inference.\n",
    "battery_low = infer_VE.query(variables=['Battery'], evidence={'Olga': 1})\n",
    "# Print the potsterior probability\n",
    "print(\"Using variable elimination, the probability that the battery is low given that Olga reports that Jason has dropped the ball is: \\n\", battery_low)"
   ]
  },
  {
   "cell_type": "code",
   "execution_count": 19,
   "metadata": {},
   "outputs": [
    {
     "name": "stderr",
     "output_type": "stream",
     "text": [
      "  0%|          | 0/10000 [00:00<?, ?it/s]c:\\Users\\donav\\OneDrive\\Desktop\\Gatech\\MechEng\\ME 8813\\envs\\envhw3\\lib\\site-packages\\pgmpy\\sampling\\base.py:582: FutureWarning: Passing a DataFrame to DataFrame.from_records is deprecated. Use set_index and/or drop to modify the DataFrame instead.\n",
      "  df = pd.DataFrame.from_records(samples)\n",
      "c:\\Users\\donav\\OneDrive\\Desktop\\Gatech\\MechEng\\ME 8813\\envs\\envhw3\\lib\\site-packages\\pgmpy\\sampling\\base.py:582: FutureWarning: Passing a DataFrame to DataFrame.from_records is deprecated. Use set_index and/or drop to modify the DataFrame instead.\n",
      "  df = pd.DataFrame.from_records(samples)\n",
      "100%|██████████| 10000/10000 [00:00<00:00, 94034.68it/s]"
     ]
    },
    {
     "name": "stdout",
     "output_type": "stream",
     "text": [
      "Using approximate inference, the probability that the battery is low given that Olga reports that Jason has dropped the ball is: \n",
      " +------------+----------------+\n",
      "| Battery    |   phi(Battery) |\n",
      "+============+================+\n",
      "| Battery(0) |         0.1402 |\n",
      "+------------+----------------+\n",
      "| Battery(1) |         0.8598 |\n",
      "+------------+----------------+\n"
     ]
    },
    {
     "name": "stderr",
     "output_type": "stream",
     "text": [
      "\n"
     ]
    }
   ],
   "source": [
    "battery_low = infer_approx.query(variables=['Battery'], evidence={'Olga': 1})\n",
    "# Print the potsterior probability\n",
    "print(\"Using approximate inference, the probability that the battery is low given that Olga reports that Jason has dropped the ball is: \\n\", battery_low)"
   ]
  },
  {
   "cell_type": "code",
   "execution_count": null,
   "metadata": {},
   "outputs": [],
   "source": []
  }
 ],
 "metadata": {
  "kernelspec": {
   "display_name": "envhw3",
   "language": "python",
   "name": "envhw3"
  },
  "language_info": {
   "codemirror_mode": {
    "name": "ipython",
    "version": 3
   },
   "file_extension": ".py",
   "mimetype": "text/x-python",
   "name": "python",
   "nbconvert_exporter": "python",
   "pygments_lexer": "ipython3",
   "version": "3.9.18"
  }
 },
 "nbformat": 4,
 "nbformat_minor": 2
}
